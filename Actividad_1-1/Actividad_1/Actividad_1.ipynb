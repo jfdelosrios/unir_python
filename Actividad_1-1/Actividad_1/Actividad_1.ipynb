{
 "cells": [
  {
   "cell_type": "markdown",
   "metadata": {},
   "source": [
    "## Ejercicio 1\n",
    "\n",
    "Completa la siguiente función para que dado un número de documento nacional de identidad (DNI), se devuelva una letra. Esta letra se obtiene calculando el resto del DNI entre 23 y a partir de ese valor asignarle una letra de la siguiente tabla:\n",
    "\n",
    "![Tabla letras de control DNI](img/letras.png)\n",
    "\n",
    "El valor DNI será un número entero y la letra debe ser una cadena de carateres que contendrá una única letra en mayúsculas."
   ]
  },
  {
   "cell_type": "code",
   "execution_count": 54,
   "metadata": {},
   "outputs": [],
   "source": [
    "def ejercicio_1(dni):\n",
    "    # Escribe aquí el código del ejercicio\n",
    "\n",
    "    list1 = [\n",
    "            'T', 'R', 'W', 'A', 'G', 'M', 'Y', 'F', 'P', 'D', 'X', 'B', \n",
    "            'N', 'J', 'Z', 'S', 'Q', 'V', 'H', 'L', 'C', 'K', 'E'\n",
    "        ]\n",
    "\n",
    "    return list1[dni%23]"
   ]
  },
  {
   "cell_type": "markdown",
   "metadata": {},
   "source": [
    "## Ejercicio 2\n",
    "\n",
    "Completa la siguiente función para que dado el precio de un producto, se calcule y se devuelva el precio total que debe pagar el cliente, es decir, incluyenfo el IVA (21% sobre el precio del producto). El precio total deberá ser únicamente el valor del precio, es decir, no debe contener el símbolo de la moneda. Redondee la salida al segundo decimal en caso necesario.\n"
   ]
  },
  {
   "cell_type": "code",
   "execution_count": 43,
   "metadata": {},
   "outputs": [],
   "source": [
    "def ejercicio_2(precio):\n",
    "    # Escribe aquí el código del ejercicio\n",
    "    return round(precio * 1.21, 2)"
   ]
  },
  {
   "cell_type": "markdown",
   "metadata": {},
   "source": [
    "## Ejercicio 3\n",
    "\n",
    "Completa la siguiente función para que dado el diámetro de una circunferencia, se calcule el área del círculo que contiene dicha circunferencia. Como valor de PI se usará $3.1415$."
   ]
  },
  {
   "cell_type": "code",
   "execution_count": 6,
   "metadata": {},
   "outputs": [],
   "source": [
    "def ejercicio_3(diametro):\n",
    "    # Escribe aquí el código del ejercicio\n",
    "    return 3.1415 * (diametro/2)**2"
   ]
  },
  {
   "cell_type": "markdown",
   "metadata": {},
   "source": [
    "## Ejercicio 4\n",
    "\n",
    "Completar la función para que dado dos números entéros <n> y <m> dos números enteros, se calcula el cociente y el resto de hacer la división entera entre n y m."
   ]
  },
  {
   "cell_type": "code",
   "execution_count": 26,
   "metadata": {},
   "outputs": [],
   "source": [
    "def ejercicio_4(n, m):\n",
    "    # Escribe tu programa aquí\n",
    "    return n//m, n - m* (n//m)"
   ]
  },
  {
   "cell_type": "code",
   "execution_count": 27,
   "metadata": {},
   "outputs": [
    {
     "data": {
      "text/plain": [
       "(78, 21)"
      ]
     },
     "execution_count": 27,
     "metadata": {},
     "output_type": "execute_result"
    }
   ],
   "source": [
    "ejercicio_4(2127, 27)"
   ]
  },
  {
   "cell_type": "markdown",
   "metadata": {},
   "source": [
    "## Ejercicio 5\n",
    "\n",
    "Completar la función para que dado el número de unidades que ha comprado un usuario de 2 productos diferentes, devolver el peso total del paquete para enviar su compra por mensajería. El peso de cada unidad del producto1 es de 147 unidades y el peso de cada unidad del producto2 es de 2400 unidades. La función debe devolver únicamente el peso total."
   ]
  },
  {
   "cell_type": "code",
   "execution_count": 28,
   "metadata": {},
   "outputs": [],
   "source": [
    "def ejercicio_5(producto1, producto2):\n",
    "    # Escribe tu programa aquí\n",
    "    return producto1 * 147 + producto2 * 2400"
   ]
  }
 ],
 "metadata": {
  "kernelspec": {
   "display_name": "Python 3",
   "language": "python",
   "name": "python3"
  },
  "language_info": {
   "codemirror_mode": {
    "name": "ipython",
    "version": 3
   },
   "file_extension": ".py",
   "mimetype": "text/x-python",
   "name": "python",
   "nbconvert_exporter": "python",
   "pygments_lexer": "ipython3",
   "version": "3.11.8"
  }
 },
 "nbformat": 4,
 "nbformat_minor": 4
}
