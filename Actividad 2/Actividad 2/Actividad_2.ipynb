{
 "cells": [
  {
   "cell_type": "markdown",
   "metadata": {},
   "source": [
    "## Ejercicio 1\n",
    "\n",
    "Escribe una función llamada ejercicio1 que genere una lista con 15 valores enteros aleatorios que vayan de 1 a 100. La función debe devolver la lista con todos los valores.\n"
   ]
  },
  {
   "cell_type": "code",
   "execution_count": 38,
   "metadata": {},
   "outputs": [],
   "source": [
    "from numpy import random\n",
    "\n",
    "def ejercicio1() -> list:\n",
    "    return random.randint(low = 1, high=101, size=15).tolist()"
   ]
  },
  {
   "cell_type": "markdown",
   "metadata": {},
   "source": [
    "## Ejercicio 2\n",
    "\n",
    "Escribe una función llamada ejercicio2 que recibe 2 argumentos: el primero será la lista que hemos implementado en el apartado a y el segundo un número por el que se dividirá cada uno de los elementos de la lista. El resultado será una nueva lista."
   ]
  },
  {
   "cell_type": "code",
   "execution_count": 45,
   "metadata": {},
   "outputs": [],
   "source": [
    "from numpy import asarray\n",
    "\n",
    "def ejercicio2(a:list, b:float) -> list:\n",
    "    return (asarray(a)/b).tolist()"
   ]
  },
  {
   "cell_type": "markdown",
   "metadata": {},
   "source": [
    "## Ejercicio 3\n",
    "\n",
    "Usando funciones anónimas, crea una nueva lista que contenga los valores enteros de cada uno de los elementos de la lista que devuelve la función implementada en el apartado b."
   ]
  },
  {
   "cell_type": "code",
   "execution_count": 64,
   "metadata": {},
   "outputs": [],
   "source": [
    "from numpy import asarray\n",
    "\n",
    "ejercicio3 = lambda a: asarray(a).astype(dtype=int).tolist()"
   ]
  },
  {
   "cell_type": "markdown",
   "metadata": {},
   "source": [
    "## Ejercicio 4\n",
    "\n",
    "Implementa una función que tenga como parámetro una lista y que devuelve 2 resultados: el mínimo común divisor de todos los números y el máximo común múltiplo de todos los valores de la lista. Prueba esta función con la lista que has obtenido en el apartado c."
   ]
  },
  {
   "cell_type": "code",
   "execution_count": 78,
   "metadata": {},
   "outputs": [],
   "source": [
    "from numpy import lcm, gcd\n",
    "\n",
    "def ejercicio4(a:list) -> tuple:\n",
    "    return gcd.reduce(a), lcm.reduce(a)"
   ]
  },
  {
   "cell_type": "markdown",
   "metadata": {},
   "source": [
    "## Ejercicio 5\n",
    "\n",
    "Ayudándote de los conjuntos, obtén los valores que son únicos en la lista generada en el apartado a. Una vez hecho esto, imprime por pantalla el número de valores únicos."
   ]
  },
  {
   "cell_type": "code",
   "execution_count": 86,
   "metadata": {},
   "outputs": [],
   "source": [
    "def ejercicio5(a:list) -> list:\n",
    "    return list(set(a))"
   ]
  }
 ],
 "metadata": {
  "kernelspec": {
   "display_name": ".env",
   "language": "python",
   "name": "python3"
  },
  "language_info": {
   "codemirror_mode": {
    "name": "ipython",
    "version": 3
   },
   "file_extension": ".py",
   "mimetype": "text/x-python",
   "name": "python",
   "nbconvert_exporter": "python",
   "pygments_lexer": "ipython3",
   "version": "3.11.8"
  },
  "orig_nbformat": 2
 },
 "nbformat": 4,
 "nbformat_minor": 2
}
